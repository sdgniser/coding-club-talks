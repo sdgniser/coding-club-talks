{
 "cells": [
  {
   "cell_type": "markdown",
   "id": "athletic-serve",
   "metadata": {},
   "source": [
    "# Interactive Session\n",
    "\n",
    "Presented by: Abhishek Anil Deshmukh\n",
    "\n",
    "NISER Coding Club\n",
    "\n",
    "16 Jan 2021"
   ]
  },
  {
   "cell_type": "code",
   "execution_count": 1,
   "id": "respected-reach",
   "metadata": {},
   "outputs": [
    {
     "name": "stdout",
     "output_type": "stream",
     "text": [
      "Interactive Session\n"
     ]
    }
   ],
   "source": [
    "print(\"Interactive Session\")"
   ]
  },
  {
   "cell_type": "markdown",
   "id": "capital-essex",
   "metadata": {},
   "source": [
    "# Variables"
   ]
  },
  {
   "cell_type": "code",
   "execution_count": 2,
   "id": "formal-trade",
   "metadata": {},
   "outputs": [],
   "source": [
    "# numbers\n",
    "abra_ka_dabra = 4"
   ]
  },
  {
   "cell_type": "code",
   "execution_count": 3,
   "id": "announced-cologne",
   "metadata": {},
   "outputs": [
    {
     "name": "stdout",
     "output_type": "stream",
     "text": [
      "4\n"
     ]
    }
   ],
   "source": [
    "print(abra_ka_dabra)"
   ]
  },
  {
   "cell_type": "code",
   "execution_count": 4,
   "id": "spare-tamil",
   "metadata": {},
   "outputs": [],
   "source": [
    "latest_number = 3.545"
   ]
  },
  {
   "cell_type": "code",
   "execution_count": 5,
   "id": "developed-giant",
   "metadata": {},
   "outputs": [
    {
     "data": {
      "text/plain": [
       "3.545"
      ]
     },
     "execution_count": 5,
     "metadata": {},
     "output_type": "execute_result"
    }
   ],
   "source": [
    "latest_number"
   ]
  },
  {
   "cell_type": "code",
   "execution_count": 6,
   "id": "square-stack",
   "metadata": {},
   "outputs": [
    {
     "name": "stdout",
     "output_type": "stream",
     "text": [
      "fjsdk fcdksh cjksdhf  ∑\n"
     ]
    }
   ],
   "source": [
    "# words\n",
    "words = 'fjsdk fcdksh cjksdhf  ∑'\n",
    "print(words)"
   ]
  },
  {
   "cell_type": "code",
   "execution_count": 7,
   "id": "patent-raising",
   "metadata": {},
   "outputs": [
    {
     "name": "stdout",
     "output_type": "stream",
     "text": [
      "COomming up...\n"
     ]
    }
   ],
   "source": [
    "# Boolean (Logic)\n",
    "\n",
    "print(\"COomming up...\")"
   ]
  },
  {
   "cell_type": "markdown",
   "id": "adjustable-victoria",
   "metadata": {},
   "source": [
    "# Not Variables"
   ]
  },
  {
   "cell_type": "code",
   "execution_count": 8,
   "id": "fifty-footage",
   "metadata": {},
   "outputs": [
    {
     "ename": "SyntaxError",
     "evalue": "invalid syntax (<ipython-input-8-5dc576f5cb6f>, line 1)",
     "output_type": "error",
     "traceback": [
      "\u001b[0;36m  File \u001b[0;32m\"<ipython-input-8-5dc576f5cb6f>\"\u001b[0;36m, line \u001b[0;32m1\u001b[0m\n\u001b[0;31m    and = \"fjdksh\"\u001b[0m\n\u001b[0m    ^\u001b[0m\n\u001b[0;31mSyntaxError\u001b[0m\u001b[0;31m:\u001b[0m invalid syntax\n"
     ]
    }
   ],
   "source": [
    "and = \"fjdksh\""
   ]
  },
  {
   "cell_type": "code",
   "execution_count": 9,
   "id": "becoming-smoke",
   "metadata": {},
   "outputs": [
    {
     "ename": "SyntaxError",
     "evalue": "invalid syntax (<ipython-input-9-50822f20ac4e>, line 1)",
     "output_type": "error",
     "traceback": [
      "\u001b[0;36m  File \u001b[0;32m\"<ipython-input-9-50822f20ac4e>\"\u001b[0;36m, line \u001b[0;32m1\u001b[0m\n\u001b[0;31m    as = 4367.342\u001b[0m\n\u001b[0m    ^\u001b[0m\n\u001b[0;31mSyntaxError\u001b[0m\u001b[0;31m:\u001b[0m invalid syntax\n"
     ]
    }
   ],
   "source": [
    "as = 4367.342"
   ]
  },
  {
   "cell_type": "code",
   "execution_count": 10,
   "id": "guided-capability",
   "metadata": {},
   "outputs": [
    {
     "ename": "SyntaxError",
     "evalue": "invalid syntax (<ipython-input-10-1e99bb713acb>, line 1)",
     "output_type": "error",
     "traceback": [
      "\u001b[0;36m  File \u001b[0;32m\"<ipython-input-10-1e99bb713acb>\"\u001b[0;36m, line \u001b[0;32m1\u001b[0m\n\u001b[0;31m    space variable name = 6478\u001b[0m\n\u001b[0m          ^\u001b[0m\n\u001b[0;31mSyntaxError\u001b[0m\u001b[0;31m:\u001b[0m invalid syntax\n"
     ]
    }
   ],
   "source": [
    "space variable name = 6478"
   ]
  },
  {
   "cell_type": "code",
   "execution_count": 11,
   "id": "horizontal-retention",
   "metadata": {},
   "outputs": [],
   "source": [
    "this = \"lmao\""
   ]
  },
  {
   "cell_type": "code",
   "execution_count": 12,
   "id": "asian-gibson",
   "metadata": {},
   "outputs": [
    {
     "name": "stdout",
     "output_type": "stream",
     "text": [
      "lmao\n"
     ]
    }
   ],
   "source": [
    "print(this)"
   ]
  },
  {
   "cell_type": "code",
   "execution_count": 13,
   "id": "proper-correspondence",
   "metadata": {},
   "outputs": [
    {
     "ename": "SyntaxError",
     "evalue": "invalid syntax (<ipython-input-13-1a1d7ac71adf>, line 1)",
     "output_type": "error",
     "traceback": [
      "\u001b[0;36m  File \u001b[0;32m\"<ipython-input-13-1a1d7ac71adf>\"\u001b[0;36m, line \u001b[0;32m1\u001b[0m\n\u001b[0;31m    4somehintg = \"47832\"\u001b[0m\n\u001b[0m     ^\u001b[0m\n\u001b[0;31mSyntaxError\u001b[0m\u001b[0;31m:\u001b[0m invalid syntax\n"
     ]
    }
   ],
   "source": [
    "4somehintg = \"47832\""
   ]
  },
  {
   "cell_type": "code",
   "execution_count": 14,
   "id": "consistent-requirement",
   "metadata": {},
   "outputs": [],
   "source": [
    "s0mething0 = \"hdfsjk\""
   ]
  },
  {
   "cell_type": "markdown",
   "id": "olympic-lingerie",
   "metadata": {},
   "source": [
    "# Arithmetic\n",
    "\n",
    "\n",
    "Basic arithmetic\n",
    "\n",
    "- Addition\n",
    "- Substraction\n",
    "- Multiplication\n",
    "- Division\n",
    "- Remainder (Modulo)"
   ]
  },
  {
   "cell_type": "code",
   "execution_count": 15,
   "id": "brave-pledge",
   "metadata": {},
   "outputs": [],
   "source": [
    "number1 = 43278\n",
    "number2 = 13"
   ]
  },
  {
   "cell_type": "code",
   "execution_count": 16,
   "id": "improving-access",
   "metadata": {},
   "outputs": [
    {
     "name": "stdout",
     "output_type": "stream",
     "text": [
      "43291\n"
     ]
    }
   ],
   "source": [
    "print(number1 + number2)"
   ]
  },
  {
   "cell_type": "code",
   "execution_count": 17,
   "id": "median-producer",
   "metadata": {},
   "outputs": [],
   "source": [
    "addition = number1 + number2"
   ]
  },
  {
   "cell_type": "code",
   "execution_count": 18,
   "id": "polished-amino",
   "metadata": {},
   "outputs": [
    {
     "name": "stdout",
     "output_type": "stream",
     "text": [
      "addition: 43291\n"
     ]
    }
   ],
   "source": [
    "print(\"addition:\", addition)"
   ]
  },
  {
   "cell_type": "code",
   "execution_count": 19,
   "id": "affected-projector",
   "metadata": {},
   "outputs": [],
   "source": [
    "mulitplication = number1*number2"
   ]
  },
  {
   "cell_type": "code",
   "execution_count": 20,
   "id": "funny-province",
   "metadata": {},
   "outputs": [
    {
     "name": "stdout",
     "output_type": "stream",
     "text": [
      "562614\n"
     ]
    }
   ],
   "source": [
    "print(mulitplication)"
   ]
  },
  {
   "cell_type": "code",
   "execution_count": 21,
   "id": "fewer-appendix",
   "metadata": {},
   "outputs": [],
   "source": [
    "substraction = number1 - number2"
   ]
  },
  {
   "cell_type": "code",
   "execution_count": 22,
   "id": "embedded-skating",
   "metadata": {},
   "outputs": [
    {
     "name": "stdout",
     "output_type": "stream",
     "text": [
      "43265\n"
     ]
    }
   ],
   "source": [
    "print(substraction)"
   ]
  },
  {
   "cell_type": "code",
   "execution_count": 23,
   "id": "impossible-medication",
   "metadata": {},
   "outputs": [
    {
     "name": "stdout",
     "output_type": "stream",
     "text": [
      "3329.076923076923\n"
     ]
    }
   ],
   "source": [
    "division = number1 /number2\n",
    "print(division)"
   ]
  },
  {
   "cell_type": "code",
   "execution_count": 24,
   "id": "taken-april",
   "metadata": {},
   "outputs": [
    {
     "name": "stdout",
     "output_type": "stream",
     "text": [
      "1\n"
     ]
    }
   ],
   "source": [
    "# Remainder\n",
    "output = number1 % number2\n",
    "print(output)"
   ]
  },
  {
   "cell_type": "code",
   "execution_count": 25,
   "id": "fourth-easter",
   "metadata": {},
   "outputs": [
    {
     "data": {
      "text/plain": [
       "1868415121440729502432594609874321368011991553828602482843648"
      ]
     },
     "execution_count": 25,
     "metadata": {},
     "output_type": "execute_result"
    }
   ],
   "source": [
    "number1**number2"
   ]
  },
  {
   "cell_type": "markdown",
   "id": "residential-marks",
   "metadata": {},
   "source": [
    "# True and False"
   ]
  },
  {
   "cell_type": "code",
   "execution_count": 26,
   "id": "noticed-dialogue",
   "metadata": {},
   "outputs": [
    {
     "name": "stdout",
     "output_type": "stream",
     "text": [
      "False\n"
     ]
    }
   ],
   "source": [
    "value = (number1 == 45)\n",
    "print(value)"
   ]
  },
  {
   "cell_type": "code",
   "execution_count": 27,
   "id": "encouraging-adams",
   "metadata": {},
   "outputs": [],
   "source": [
    "# >=\n",
    "# ==\n",
    "# <=\n",
    "# <\n",
    "# >\n",
    "# !="
   ]
  },
  {
   "cell_type": "markdown",
   "id": "postal-yorkshire",
   "metadata": {},
   "source": [
    "# What if?"
   ]
  },
  {
   "cell_type": "code",
   "execution_count": 28,
   "id": "bizarre-michael",
   "metadata": {},
   "outputs": [
    {
     "name": "stdout",
     "output_type": "stream",
     "text": [
      "I'm strong\n",
      "keep working hard\n"
     ]
    }
   ],
   "source": [
    "dead_lift = 50\n",
    "if dead_lift > 40:\n",
    "    print(\"I'm strong\")\n",
    "print(\"keep working hard\")"
   ]
  },
  {
   "cell_type": "code",
   "execution_count": 29,
   "id": "recovered-texture",
   "metadata": {},
   "outputs": [
    {
     "name": "stdout",
     "output_type": "stream",
     "text": [
      "I'm strong\n",
      "relly string\n",
      "keep working hard\n"
     ]
    }
   ],
   "source": [
    "dead_lift = 50\n",
    "if dead_lift > 40:\n",
    "    print(\"I'm strong\")\n",
    "    print(\"relly string\")\n",
    "else:\n",
    "    print(\"Not so strong\")\n",
    "    print(\"Not so strong\")\n",
    "print(\"keep working hard\")"
   ]
  },
  {
   "cell_type": "code",
   "execution_count": 30,
   "id": "important-damage",
   "metadata": {},
   "outputs": [
    {
     "name": "stdout",
     "output_type": "stream",
     "text": [
      "BB\n"
     ]
    }
   ],
   "source": [
    "cgpa = 8\n",
    "if cgpa == 10:\n",
    "    print(\"AA\")\n",
    "elif cgpa == 9:\n",
    "    print(\"AB\")\n",
    "elif cgpa == 8:\n",
    "    print(\"BB\")\n",
    "elif cgpa == 7:\n",
    "    print(\"BC\")\n",
    "elif cgps == 6:\n",
    "    print(\"CC\")\n",
    "elif cgpa == 5:\n",
    "    print(\"CD\")"
   ]
  },
  {
   "cell_type": "markdown",
   "id": "humanitarian-revelation",
   "metadata": {},
   "source": [
    "# Lists\n",
    "\n",
    "lists and tuples\n",
    "\n",
    "Lists are mutable meaning their values can be changed.\n",
    "Tuples are immutable Lists."
   ]
  },
  {
   "cell_type": "code",
   "execution_count": 31,
   "id": "decent-champagne",
   "metadata": {},
   "outputs": [],
   "source": [
    "my_list = [\"lmao\", \"lol\", \"lol\", 43, 4324.758, \"s\", True]"
   ]
  },
  {
   "cell_type": "code",
   "execution_count": 32,
   "id": "threatened-covering",
   "metadata": {},
   "outputs": [
    {
     "name": "stdout",
     "output_type": "stream",
     "text": [
      "['lmao', 'lol', 'lol', 43, 4324.758, 's', True]\n"
     ]
    }
   ],
   "source": [
    "print(my_list)"
   ]
  },
  {
   "cell_type": "code",
   "execution_count": 33,
   "id": "strategic-lucas",
   "metadata": {},
   "outputs": [
    {
     "data": {
      "text/plain": [
       "7"
      ]
     },
     "execution_count": 33,
     "metadata": {},
     "output_type": "execute_result"
    }
   ],
   "source": [
    "len(my_list)"
   ]
  },
  {
   "cell_type": "code",
   "execution_count": 34,
   "id": "isolated-industry",
   "metadata": {},
   "outputs": [
    {
     "data": {
      "text/plain": [
       "43"
      ]
     },
     "execution_count": 34,
     "metadata": {},
     "output_type": "execute_result"
    }
   ],
   "source": [
    "my_list[3]"
   ]
  },
  {
   "cell_type": "code",
   "execution_count": 35,
   "id": "horizontal-marks",
   "metadata": {},
   "outputs": [
    {
     "name": "stdout",
     "output_type": "stream",
     "text": [
      "[[3, 4, 5], [6, 8, 25], [9, 12, 15]]\n"
     ]
    }
   ],
   "source": [
    "muh_list = [[3, 4, 5], [6, 8, 25], [9, 12, 15]]\n",
    "print(muh_list)"
   ]
  },
  {
   "cell_type": "code",
   "execution_count": 36,
   "id": "electronic-windsor",
   "metadata": {},
   "outputs": [
    {
     "name": "stdout",
     "output_type": "stream",
     "text": [
      "[[3, 4, 5], 'lmao', [9, 12, 15]]\n"
     ]
    }
   ],
   "source": [
    "muh_list[1] = \"lmao\"\n",
    "print(muh_list)"
   ]
  },
  {
   "cell_type": "code",
   "execution_count": 37,
   "id": "royal-charles",
   "metadata": {},
   "outputs": [
    {
     "data": {
      "text/plain": [
       "'l'"
      ]
     },
     "execution_count": 37,
     "metadata": {},
     "output_type": "execute_result"
    }
   ],
   "source": [
    "muh_list[1][0]"
   ]
  },
  {
   "cell_type": "code",
   "execution_count": 38,
   "id": "armed-myrtle",
   "metadata": {},
   "outputs": [],
   "source": [
    "my_tuple = (\"lmao\", \"lol\", \"lol\", 43, 4324.758, \"s\", True)"
   ]
  },
  {
   "cell_type": "code",
   "execution_count": 39,
   "id": "incredible-variety",
   "metadata": {},
   "outputs": [
    {
     "data": {
      "text/plain": [
       "43"
      ]
     },
     "execution_count": 39,
     "metadata": {},
     "output_type": "execute_result"
    }
   ],
   "source": [
    "my_tuple[3]"
   ]
  },
  {
   "cell_type": "code",
   "execution_count": 40,
   "id": "affected-plaza",
   "metadata": {},
   "outputs": [
    {
     "data": {
      "text/plain": [
       "7"
      ]
     },
     "execution_count": 40,
     "metadata": {},
     "output_type": "execute_result"
    }
   ],
   "source": [
    "len(my_tuple)"
   ]
  },
  {
   "cell_type": "code",
   "execution_count": 41,
   "id": "furnished-trigger",
   "metadata": {},
   "outputs": [
    {
     "ename": "TypeError",
     "evalue": "'tuple' object does not support item assignment",
     "output_type": "error",
     "traceback": [
      "\u001b[0;31m---------------------------------------------------------------------------\u001b[0m",
      "\u001b[0;31mTypeError\u001b[0m                                 Traceback (most recent call last)",
      "\u001b[0;32m<ipython-input-41-01e1900a2674>\u001b[0m in \u001b[0;36m<module>\u001b[0;34m\u001b[0m\n\u001b[1;32m      1\u001b[0m \u001b[0;31m# you are not allowed to change values of a tuple\u001b[0m\u001b[0;34m\u001b[0m\u001b[0;34m\u001b[0m\u001b[0;34m\u001b[0m\u001b[0m\n\u001b[0;32m----> 2\u001b[0;31m \u001b[0mmy_tuple\u001b[0m\u001b[0;34m[\u001b[0m\u001b[0;36m3\u001b[0m\u001b[0;34m]\u001b[0m \u001b[0;34m=\u001b[0m \u001b[0;34m\"hehe\"\u001b[0m\u001b[0;34m\u001b[0m\u001b[0;34m\u001b[0m\u001b[0m\n\u001b[0m",
      "\u001b[0;31mTypeError\u001b[0m: 'tuple' object does not support item assignment"
     ]
    }
   ],
   "source": [
    "# you are not allowed to change values of a tuple\n",
    "my_tuple[3] = \"hehe\""
   ]
  },
  {
   "cell_type": "markdown",
   "id": "atmospheric-trout",
   "metadata": {},
   "source": [
    "# Loops\n",
    "\n",
    "- for loops\n",
    "- range"
   ]
  },
  {
   "cell_type": "code",
   "execution_count": 42,
   "id": "generous-campaign",
   "metadata": {},
   "outputs": [
    {
     "name": "stdout",
     "output_type": "stream",
     "text": [
      "lmao 467\n",
      "lol 467\n",
      "lol 467\n",
      "43 467\n",
      "4324.758 467\n",
      "s 467\n",
      "True 467\n"
     ]
    }
   ],
   "source": [
    "for something in my_list:\n",
    "    print(something, \"467\")"
   ]
  },
  {
   "cell_type": "code",
   "execution_count": 43,
   "id": "opened-request",
   "metadata": {},
   "outputs": [
    {
     "name": "stdout",
     "output_type": "stream",
     "text": [
      "1\n"
     ]
    }
   ],
   "source": [
    "print(1)"
   ]
  },
  {
   "cell_type": "code",
   "execution_count": 44,
   "id": "traditional-guard",
   "metadata": {},
   "outputs": [
    {
     "name": "stdout",
     "output_type": "stream",
     "text": [
      "1\n",
      "2\n",
      "3\n",
      "4\n",
      "5\n",
      "6\n",
      "7\n",
      "8\n",
      "9\n",
      "10\n",
      "11\n",
      "12\n",
      "13\n",
      "14\n",
      "15\n",
      "16\n",
      "17\n",
      "18\n",
      "19\n",
      "20\n",
      "21\n",
      "22\n",
      "23\n",
      "24\n",
      "25\n",
      "26\n",
      "27\n",
      "28\n",
      "29\n",
      "30\n",
      "31\n",
      "32\n",
      "33\n",
      "34\n",
      "35\n",
      "36\n",
      "37\n",
      "38\n",
      "39\n",
      "40\n",
      "41\n",
      "42\n",
      "43\n",
      "44\n",
      "45\n",
      "46\n",
      "47\n",
      "48\n",
      "49\n",
      "50\n",
      "51\n",
      "52\n",
      "53\n",
      "54\n",
      "55\n",
      "56\n",
      "57\n",
      "58\n",
      "59\n",
      "60\n",
      "61\n",
      "62\n",
      "63\n",
      "64\n",
      "65\n",
      "66\n",
      "67\n",
      "68\n",
      "69\n",
      "70\n",
      "71\n",
      "72\n",
      "73\n",
      "74\n",
      "75\n",
      "76\n",
      "77\n",
      "78\n",
      "79\n",
      "80\n",
      "81\n",
      "82\n",
      "83\n",
      "84\n",
      "85\n",
      "86\n",
      "87\n",
      "88\n",
      "89\n",
      "90\n",
      "91\n",
      "92\n",
      "93\n",
      "94\n",
      "95\n",
      "96\n",
      "97\n",
      "98\n",
      "99\n",
      "100\n"
     ]
    }
   ],
   "source": [
    "for number in range(1, 101):\n",
    "    print(number)"
   ]
  },
  {
   "cell_type": "markdown",
   "id": "union-ceramic",
   "metadata": {},
   "source": [
    "# Functions\n",
    "writing functions and applying them on a numpy array"
   ]
  },
  {
   "cell_type": "code",
   "execution_count": 45,
   "id": "external-circular",
   "metadata": {},
   "outputs": [],
   "source": [
    "def straight_line(x, m, c):\n",
    "    return m*x + c"
   ]
  },
  {
   "cell_type": "code",
   "execution_count": 46,
   "id": "rapid-casting",
   "metadata": {},
   "outputs": [
    {
     "data": {
      "text/plain": [
       "72"
      ]
     },
     "execution_count": 46,
     "metadata": {},
     "output_type": "execute_result"
    }
   ],
   "source": [
    "straight_line(34, 2, 4)"
   ]
  },
  {
   "cell_type": "code",
   "execution_count": 47,
   "id": "timely-nothing",
   "metadata": {},
   "outputs": [],
   "source": [
    "def square(x):\n",
    "    return x*x"
   ]
  },
  {
   "cell_type": "code",
   "execution_count": 48,
   "id": "forbidden-monaco",
   "metadata": {},
   "outputs": [
    {
     "data": {
      "text/plain": [
       "36"
      ]
     },
     "execution_count": 48,
     "metadata": {},
     "output_type": "execute_result"
    }
   ],
   "source": [
    "square(6)"
   ]
  },
  {
   "cell_type": "code",
   "execution_count": 49,
   "id": "timely-switch",
   "metadata": {},
   "outputs": [],
   "source": [
    "import numpy as np"
   ]
  },
  {
   "cell_type": "code",
   "execution_count": 50,
   "id": "corporate-vacation",
   "metadata": {},
   "outputs": [
    {
     "data": {
      "text/plain": [
       "array([10.        , 11.11111111, 12.22222222, 13.33333333, 14.44444444,\n",
       "       15.55555556, 16.66666667, 17.77777778, 18.88888889, 20.        ,\n",
       "       21.11111111, 22.22222222, 23.33333333, 24.44444444, 25.55555556,\n",
       "       26.66666667, 27.77777778, 28.88888889, 30.        ])"
      ]
     },
     "execution_count": 50,
     "metadata": {},
     "output_type": "execute_result"
    }
   ],
   "source": [
    "np.linspace(10, 30, 19)"
   ]
  },
  {
   "cell_type": "code",
   "execution_count": 51,
   "id": "seven-bradford",
   "metadata": {},
   "outputs": [
    {
     "data": {
      "text/plain": [
       "array([100.        , 123.45679012, 149.38271605, 177.77777778,\n",
       "       208.64197531, 241.97530864, 277.77777778, 316.04938272,\n",
       "       356.79012346, 400.        , 445.67901235, 493.82716049,\n",
       "       544.44444444, 597.5308642 , 653.08641975, 711.11111111,\n",
       "       771.60493827, 834.56790123, 900.        ])"
      ]
     },
     "execution_count": 51,
     "metadata": {},
     "output_type": "execute_result"
    }
   ],
   "source": [
    "square(np.linspace(10, 30, 19))"
   ]
  },
  {
   "cell_type": "markdown",
   "id": "standard-barcelona",
   "metadata": {},
   "source": [
    "# Plots\n",
    "\n",
    "matplotlib.pyplot"
   ]
  },
  {
   "cell_type": "code",
   "execution_count": 52,
   "id": "fossil-partition",
   "metadata": {},
   "outputs": [],
   "source": [
    "import matplotlib.pyplot as plt"
   ]
  },
  {
   "cell_type": "code",
   "execution_count": 53,
   "id": "forbidden-museum",
   "metadata": {},
   "outputs": [
    {
     "data": {
      "text/plain": [
       "[<matplotlib.lines.Line2D at 0x7f4a3dd222e0>]"
      ]
     },
     "execution_count": 53,
     "metadata": {},
     "output_type": "execute_result"
    },
    {
     "data": {
      "image/png": "[encoded data removed]",
      "text/plain": [
       "<Figure size 432x288 with 1 Axes>"
      ]
     },
     "metadata": {
      "needs_background": "light"
     },
     "output_type": "display_data"
    }
   ],
   "source": [
    "plt.plot([1, 2, 3, 4, 5], [3, 7, 4, 5, 6])"
   ]
  },
  {
   "cell_type": "code",
   "execution_count": 54,
   "id": "rotary-coordinate",
   "metadata": {},
   "outputs": [
    {
     "data": {
      "image/png": "[encoded data removed]",
      "text/plain": [
       "<Figure size 432x288 with 1 Axes>"
      ]
     },
     "metadata": {
      "needs_background": "light"
     },
     "output_type": "display_data"
    }
   ],
   "source": [
    "x = np.linspace(-10, 10, 100)\n",
    "y = square(x)\n",
    "plt.plot(x, y)\n",
    "plt.grid()\n",
    "plt.xlabel(\"x\")\n",
    "plt.ylabel(\"y\")\n",
    "plt.title(\"y = x*x\")\n",
    "plt.savefig(\"quadratic.png\")"
   ]
  },
  {
   "cell_type": "code",
   "execution_count": 55,
   "id": "willing-tooth",
   "metadata": {},
   "outputs": [],
   "source": [
    "def gaussian(x):\n",
    "    from numpy import e\n",
    "    return e**(-((3-x)**2)/4)"
   ]
  },
  {
   "cell_type": "code",
   "execution_count": 56,
   "id": "specialized-active",
   "metadata": {},
   "outputs": [
    {
     "data": {
      "image/png": "[encoded data removed]",
      "text/plain": [
       "<Figure size 432x288 with 1 Axes>"
      ]
     },
     "metadata": {
      "needs_background": "light"
     },
     "output_type": "display_data"
    }
   ],
   "source": [
    "x = np.linspace(-10, 10, 100)\n",
    "y = gaussian(x)\n",
    "plt.plot(x, y, label=\"line\")\n",
    "plt.scatter(x, y, label=\"dots\")\n",
    "plt.legend()\n",
    "plt.show()"
   ]
  },
  {
   "cell_type": "code",
   "execution_count": null,
   "id": "entitled-tours",
   "metadata": {},
   "outputs": [],
   "source": []
  }
 ],
 "metadata": {
  "kernelspec": {
   "display_name": "Python 3",
   "language": "python",
   "name": "python3"
  },
  "language_info": {
   "codemirror_mode": {
    "name": "ipython",
    "version": 3
   },
   "file_extension": ".py",
   "mimetype": "text/x-python",
   "name": "python",
   "nbconvert_exporter": "python",
   "pygments_lexer": "ipython3",
   "version": "3.8.5"
  }
 },
 "nbformat": 4,
 "nbformat_minor": 5
}
