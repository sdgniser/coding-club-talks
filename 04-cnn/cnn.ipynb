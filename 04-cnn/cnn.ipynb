{
 "cells": [
  {
   "cell_type": "markdown",
   "metadata": {},
   "source": [
    "# Interactive Coding Session - Day 5\n",
    "## Convolutional Neural Networks\n",
    "\n",
    "\n",
    "Links:\n",
    "\n",
    "* Convolution (Hyper)parameters: https://github.com/vdumoulin/conv_arithmetic/blob/master/README.md#convolution-animations\n"
   ]
  },
  {
   "source": [
    "![CNN](./cnn.jpeg)"
   ],
   "cell_type": "markdown",
   "metadata": {}
  },
  {
   "cell_type": "markdown",
   "metadata": {},
   "source": [
    "### Basic Imports\n",
    "\n",
    "Details on some imports:\n",
    "\n",
    "* Conv2d: Torch layer, that implements a 2D convolution\n",
    "* ReLU: Rectified Linear Unit, an activation function, given by $max(0, x)$\n",
    "* MaxPool2d: Torch layer, that implements a 2D max pooling operation\n",
    "* Linear: Torch layer that implements a simple weighted forward pass, $y = W * x + b$\n",
    "* MSELoss: Mean Squared Error, given by $l(x, y) = mean(x_n - y_n)^2$\n",
    "* Adam: Optimizer; Alternative to stochastic gradient descent\n",
    "* CNNDataUtils: The data loader / utility function, made to load the dataset (stored in data.npy)"
   ]
  },
  {
   "cell_type": "code",
   "execution_count": 1,
   "metadata": {},
   "outputs": [],
   "source": [
    "import torch\n",
    "from torch.nn import Module, Conv2d, ReLU, MaxPool2d, Linear, MSELoss\n",
    "from torch.optim import Adam\n",
    "\n",
    "from data import CNNDataUtils\n",
    "\n",
    "from matplotlib import pyplot as plt"
   ]
  },
  {
   "cell_type": "markdown",
   "metadata": {},
   "source": [
    "### Convolutional Neural Network (CNN) class"
   ]
  },
  {
   "cell_type": "code",
   "execution_count": 2,
   "metadata": {},
   "outputs": [],
   "source": [
    "class CNN(Module):\n",
    "    def __init__(self):\n",
    "        super().__init__()\n",
    "        self.conv1 = Conv2d(in_channels=1, out_channels=32, kernel_size=5)\n",
    "        self.pool = MaxPool2d(kernel_size=2, stride=2)\n",
    "        self.conv2 = Conv2d(in_channels=32, out_channels=64, kernel_size=5)\n",
    "        self.fc1 = Linear(in_features=None, out_features=512)\n",
    "        self.fc2 = Linear(in_features=512, out_features=2)  # out = 2, as we have two classes - CATS and NOT_CATS\n",
    "        self.act = ReLU()\n",
    "\n",
    "    def forward(self, x):\n",
    "        # Conv Layer 1\n",
    "        x = self.conv1(x)\n",
    "        x = self.act(x)\n",
    "        x = self.pool(x)\n",
    "\n",
    "        # Conv Layer 2\n",
    "        x = self.conv2(x)\n",
    "        x = self.act(x)\n",
    "        x = self.pool(x)\n",
    "\n",
    "        # Linear / Dense Layers\n",
    "        x = None\n",
    "        x = self.fc1(x)\n",
    "        x = self.act(x)\n",
    "        x = self.fc2(x)  # Output Layer - So, no activation\n",
    "\n",
    "        return x"
   ]
  },
  {
   "cell_type": "markdown",
   "metadata": {},
   "source": [
    "### The Network Class"
   ]
  },
  {
   "cell_type": "code",
   "execution_count": 3,
   "metadata": {},
   "outputs": [],
   "source": [
    "class Network:\n",
    "    def __init__(self, epochs=5, lr=1e-2):\n",
    "        self.model = CNN().to('cuda')\n",
    "        self.epochs = epochs\n",
    "        self.learning_rate = lr\n",
    "        self.optimizer = Adam(self.model.parameters(), lr=self.learning_rate)\n",
    "        self.lossfn = None\n",
    "\n",
    "        self.trainData, self.testData, self.testLabels = CNNDataUtils(batch=50).loadTorchDataset()\n",
    "\n",
    "    def train(self):\n",
    "        print(f'\\nNOTE: Training model for {self.epochs} epoch(s)...')\n",
    "        model = self.model\n",
    "        model.train()\n",
    "\n",
    "        for epochs in range(1, self.epochs + 1):\n",
    "            for batch_idx, (data, target) in enumerate(self.trainData):\n",
    "                opt = self.optimizer\n",
    "                lossfn = self.lossfn\n",
    "                output = model(data)\n",
    "\n",
    "                opt.zero_grad()\n",
    "                loss = lossfn(output, target)\n",
    "                loss.backward()\n",
    "                opt.step()\n",
    "\n",
    "            print(f'(epoch {epochs}): completed with loss {loss.item()}')\n",
    "\n",
    "        print('NOTE: Training complete!')\n",
    "\n",
    "    def test(self):\n",
    "        print('\\nNOTE: Testing model')\n",
    "        model = self.model\n",
    "        td, tl = self.testData, self.testLabels\n",
    "        \n",
    "        correct = 0\n",
    "        total = 0\n",
    "        with torch.no_grad():\n",
    "            for i in range(len(td)):\n",
    "                real_class = torch.argmax(tl[i])\n",
    "                net_out = model(td[i].view(-1, 1, 50, 50))[0]\n",
    "                predicted_class = torch.argmax(net_out)\n",
    "\n",
    "                if predicted_class == real_class:\n",
    "                    correct += 1\n",
    "                total += 1\n",
    "\n",
    "        print(f'NOTE: Accuracy on the testing set is {round(correct/total * 100, 2)}%')"
   ]
  },
  {
   "cell_type": "markdown",
   "metadata": {},
   "source": [
    "### Training the Model"
   ]
  },
  {
   "cell_type": "code",
   "execution_count": 8,
   "metadata": {},
   "outputs": [
    {
     "name": "stdout",
     "output_type": "stream",
     "text": [
      "NOTE: The model summary is given below:\n",
      "CNN(\n",
      "  (conv1): Conv2d(1, 32, kernel_size=(5, 5), stride=(1, 1))\n",
      "  (pool): MaxPool2d(kernel_size=2, stride=2, padding=0, dilation=1, ceil_mode=False)\n",
      "  (conv2): Conv2d(32, 64, kernel_size=(5, 5), stride=(1, 1))\n",
      "  (fc1): Linear(in_features=5184, out_features=512, bias=True)\n",
      "  (fc2): Linear(in_features=512, out_features=2, bias=True)\n",
      "  (act): ReLU()\n",
      ")\n",
      "\n",
      "NOTE: Training model for 10 epoch(s)...\n",
      "(epoch 1): completed with loss 0.25656840205192566\n",
      "(epoch 2): completed with loss 0.25242775678634644\n",
      "(epoch 3): completed with loss 0.2325589656829834\n",
      "(epoch 4): completed with loss 0.23388570547103882\n",
      "(epoch 5): completed with loss 0.25606614351272583\n",
      "(epoch 6): completed with loss 0.23867250978946686\n",
      "(epoch 7): completed with loss 0.24607202410697937\n",
      "(epoch 8): completed with loss 0.23416581749916077\n",
      "(epoch 9): completed with loss 0.2443709373474121\n",
      "(epoch 10): completed with loss 0.22089014947414398\n",
      "NOTE: Training complete!\n",
      "\n",
      "NOTE: Testing model\n",
      "NOTE: Accuracy on the testing set is 64.66%\n"
     ]
    }
   ],
   "source": [
    "net = Network(epochs=10, lr=1e-5)\n",
    "print('NOTE: The model summary is given below:')\n",
    "print(net.model)\n",
    "net.train()\n",
    "net.test()"
   ]
  },
  {
   "cell_type": "code",
   "execution_count": null,
   "metadata": {},
   "outputs": [],
   "source": []
  }
 ],
 "metadata": {
  "kernelspec": {
   "display_name": "Python 3",
   "language": "python",
   "name": "python3"
  },
  "language_info": {
   "codemirror_mode": {
    "name": "ipython",
    "version": 3
   },
   "file_extension": ".py",
   "mimetype": "text/x-python",
   "name": "python",
   "nbconvert_exporter": "python",
   "pygments_lexer": "ipython3",
   "version": "3.8.5"
  }
 },
 "nbformat": 4,
 "nbformat_minor": 4
}