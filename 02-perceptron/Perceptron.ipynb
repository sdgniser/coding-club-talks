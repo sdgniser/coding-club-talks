{
 "cells": [
  {
   "cell_type": "code",
   "execution_count": 1,
   "id": "usual-mouse",
   "metadata": {},
   "outputs": [],
   "source": [
    "import numpy as np\n",
    "import matplotlib.pyplot as plt"
   ]
  },
  {
   "cell_type": "code",
   "execution_count": 2,
   "id": "immune-pacific",
   "metadata": {},
   "outputs": [],
   "source": [
    "def sigmoid(z, diff = False):\n",
    "    s = 1 / (1 + np.exp(-z))\n",
    "    if diff: return s * (1 - s)\n",
    "    return s\n",
    "\n",
    "class Perceptron:\n",
    "    def __init__(self, in_size):\n",
    "        self.W = np.random.normal(0, 0.01, (1, in_size))\n",
    "        self.b = 0.0\n",
    "        self.in_size = in_size\n",
    "    \n",
    "    def apply(self, x):\n",
    "        return np.dot(self.W, x) + self.b\n",
    "    \n",
    "    def predict(self, x):\n",
    "        return sigmoid(self.apply(x))\n",
    "    \n",
    "    def gradient(self, batch):\n",
    "        N = len(batch)\n",
    "        nabla_b, nabla_W = 0, np.zeros(self.W.shape)\n",
    "        for (x, y) in batch:\n",
    "            z = self.apply(x)\n",
    "            a = sigmoid(z)\n",
    "            delta = (a - y) * sigmoid(z, diff = True)\n",
    "            dW = delta * x\n",
    "            nabla_b += delta\n",
    "            nabla_W += dW\n",
    "            \n",
    "        return nabla_b/N, nabla_W/N\n",
    "    \n",
    "    def loss(self, batch):\n",
    "        return np.mean([(1/2)*(self.predict(x) - y)**2 \n",
    "                                            for (x, y) in batch])\n",
    "    \n",
    "    def accuracy(self, batch):\n",
    "        return sum([np.round(self.predict(x)) == y for (x, y) in batch]) / len(batch)\n",
    "    \n",
    "    def train(self, data, learning_rate, epochs, test_split = 0.2, verbose = True):\n",
    "        # Splitting training and testing data\n",
    "        pivot = int(test_split * len(data))\n",
    "        train_data, test_data = data[pivot:], data[:pivot]\n",
    "        \n",
    "        # Keeping track of losses and accuracy during training\n",
    "        losses, accuracies = [], []\n",
    "        \n",
    "        for e in range(epochs):\n",
    "            np.random.shuffle(train_data)\n",
    "            \n",
    "            db, dW = self.gradient(train_data)\n",
    "            self.W -= learning_rate * dW\n",
    "            self.b -= learning_rate * db\n",
    "            \n",
    "            l, a = self.loss(train_data), self.accuracy(test_data)\n",
    "            losses.append(l)\n",
    "            accuracies.append(a)\n",
    "            \n",
    "            if verbose:\n",
    "                print(\"Training complete for epoch {}.\\nLoss: {}. Test Accuracy: {}\".format(e + 1, l, a))\n",
    "        \n",
    "        return losses, accuracies"
   ]
  },
  {
   "cell_type": "code",
   "execution_count": 21,
   "id": "wireless-testimony",
   "metadata": {},
   "outputs": [
    {
     "data": {
      "image/png": "[encoded data removed]",
      "text/plain": [
       "<Figure size 432x288 with 1 Axes>"
      ]
     },
     "metadata": {
      "needs_background": "light"
     },
     "output_type": "display_data"
    }
   ],
   "source": [
    "# Loading data\n",
    "import pickle\n",
    "f = open(\"cluster.pickle\", \"rb\")\n",
    "cluster_data = pickle.load(f)\n",
    "f.close()\n",
    "\n",
    "for (x, y) in cluster_data:\n",
    "    if y == 0:\n",
    "        plt.scatter(*x, color = \"blue\")\n",
    "    elif y == 1:\n",
    "        plt.scatter(*x, color = \"red\")"
   ]
  },
  {
   "cell_type": "code",
   "execution_count": 22,
   "id": "accompanied-banner",
   "metadata": {},
   "outputs": [
    {
     "data": {
      "text/plain": [
       "array([0.23])"
      ]
     },
     "execution_count": 22,
     "metadata": {},
     "output_type": "execute_result"
    }
   ],
   "source": [
    "# Constructing and training the Perceptron\n",
    "clustertron = Perceptron(2)\n",
    "clustertron.accuracy(cluster_data)"
   ]
  },
  {
   "cell_type": "code",
   "execution_count": 23,
   "id": "competitive-throat",
   "metadata": {},
   "outputs": [
    {
     "name": "stdout",
     "output_type": "stream",
     "text": [
      "Training complete for epoch 1.\n",
      "Loss: 0.12276211142855935. Test Accuracy: [0.94]\n",
      "Training complete for epoch 2.\n",
      "Loss: 0.11976871634478446. Test Accuracy: [0.99]\n",
      "Training complete for epoch 3.\n",
      "Loss: 0.11686663656906834. Test Accuracy: [0.99]\n",
      "Training complete for epoch 4.\n",
      "Loss: 0.11405538911247558. Test Accuracy: [0.99]\n",
      "Training complete for epoch 5.\n",
      "Loss: 0.11133413671805925. Test Accuracy: [1.]\n"
     ]
    },
    {
     "data": {
      "image/png": "[encoded data removed]",
      "text/plain": [
       "<Figure size 432x288 with 1 Axes>"
      ]
     },
     "metadata": {
      "needs_background": "light"
     },
     "output_type": "display_data"
    }
   ],
   "source": [
    "clustertron.train(cluster_data, 0.1, 5, test_split = 0.2);\n",
    "\n",
    "for (x, y) in cluster_data:\n",
    "    if np.round(clustertron.predict(x)) == 0:\n",
    "        plt.scatter(*x, label = \"Cluster 0\", color = \"blue\")\n",
    "    elif np.round(clustertron.predict(x)) == 1:\n",
    "        plt.scatter(*x, label = \"Cluster 1\", color = \"red\")\n",
    "plt.show()"
   ]
  }
 ],
 "metadata": {
  "kernelspec": {
   "display_name": "Python 3",
   "language": "python",
   "name": "python3"
  },
  "language_info": {
   "codemirror_mode": {
    "name": "ipython",
    "version": 3
   },
   "file_extension": ".py",
   "mimetype": "text/x-python",
   "name": "python",
   "nbconvert_exporter": "python",
   "pygments_lexer": "ipython3",
   "version": "3.9.1"
  }
 },
 "nbformat": 4,
 "nbformat_minor": 5
}
