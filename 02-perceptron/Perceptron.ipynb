{
 "cells": [
  {
   "cell_type": "code",
   "execution_count": null,
   "id": "still-reminder",
   "metadata": {},
   "outputs": [],
   "source": [
    "# Standard imports\n",
    "import numpy as np\n",
    "import matplotlib.pyplot as plt"
   ]
  },
  {
   "cell_type": "code",
   "execution_count": null,
   "id": "apparent-convention",
   "metadata": {},
   "outputs": [],
   "source": [
    "# Sigmoid activation for the perceptron\n",
    "def sigmoid(z, diff = False):\n",
    "    s = 1 / (1 + np.exp(-z))\n",
    "    if diff: return s * (1 - s)\n",
    "    return s\n",
    "\n",
    "class Perceptron:\n",
    "    def __init__(self, in_size):\n",
    "        self.W = None\n",
    "        self.b = None\n",
    "        self.in_size = None\n",
    "    \n",
    "    def apply(self, x):\n",
    "        return None\n",
    "    \n",
    "    def predict(self, x):\n",
    "        return None\n",
    "    \n",
    "    def gradient(self, batch):\n",
    "        N = len(batch)\n",
    "        nabla_b, nabla_W = 0, np.zeros(self.W.shape)\n",
    "        for (x, y) in batch:\n",
    "            z = None\n",
    "            a = None\n",
    "            delta = None\n",
    "            nabla_b += None\n",
    "            nabla_W += None\n",
    "            \n",
    "        return nabla_b, nabla_W\n",
    "    \n",
    "    def loss(self, batch):\n",
    "        return np.mean([(1/2)*(self.predict(x) - y)**2 \n",
    "                                            for (x, y) in batch])\n",
    "    \n",
    "    def accuracy(self, batch):\n",
    "        return sum([self.predict(x) == y for (x, y) in batch]) / len(batch)\n",
    "    \n",
    "    def train(self, data, learning_rate, epochs, test_split = 0.2, verbose = True):\n",
    "        # Splitting training and testing data\n",
    "        pivot = int(test_split * len(data))\n",
    "        train_data, test_data = data[pivot:], data[:pivot]\n",
    "        \n",
    "        # Keeping track of losses and accuracy during training\n",
    "        losses, accuracies = [], []\n",
    "        \n",
    "        for e in range(epochs):\n",
    "            np.random.shuffle(train_data)\n",
    "            \n",
    "            db, dW = None\n",
    "            self.W -= None\n",
    "            self.b -= None\n",
    "            \n",
    "            l, a = None\n",
    "            losses.append(l)\n",
    "            accuracies.append(a)\n",
    "            \n",
    "            if verbose:\n",
    "                print(\"Training complete for epoch {}.\\nLoss: {}. Test Accuracy: {}\".format(e + 1, l, a))\n",
    "        \n",
    "        return losses, accuracies"
   ]
  },
  {
   "cell_type": "code",
   "execution_count": null,
   "id": "recorded-islam",
   "metadata": {},
   "outputs": [],
   "source": [
    "# Loading data\n",
    "import pickle\n",
    "f = open(\"cluster.pickle\", \"rb\")\n",
    "cluster_data = pickle.load(f)\n",
    "f.close()\n",
    "\n",
    "for (x, y) in cluster_data:\n",
    "    if y == 0:\n",
    "        plt.scatter(*x, color = \"blue\")\n",
    "    elif y == 1:\n",
    "        plt.scatter(*x, color = \"red\")"
   ]
  },
  {
   "cell_type": "code",
   "execution_count": null,
   "id": "round-anthropology",
   "metadata": {},
   "outputs": [],
   "source": [
    "# Constructing the Perceptron\n",
    "clustertron = Perceptron(2)\n",
    "clustertron.accuracy(cluster_data)"
   ]
  },
  {
   "cell_type": "code",
   "execution_count": null,
   "id": "naval-bidder",
   "metadata": {},
   "outputs": [],
   "source": [
    "clustertron.train();\n",
    "\n",
    "for (x, y) in cluster_data:\n",
    "    if clustertron.predict(x) == 0:\n",
    "        plt.scatter(*x, label = \"Cluster 0\", color = \"blue\")\n",
    "    elif clustertron.predict(x) == 1:\n",
    "        plt.scatter(*x, label = \"Cluster 1\", color = \"red\")\n",
    "plt.show()"
   ]
  }
 ],
 "metadata": {
  "kernelspec": {
   "display_name": "Python 3",
   "language": "python",
   "name": "python3"
  },
  "language_info": {
   "codemirror_mode": {
    "name": "ipython",
    "version": 3
   },
   "file_extension": ".py",
   "mimetype": "text/x-python",
   "name": "python",
   "nbconvert_exporter": "python",
   "pygments_lexer": "ipython3",
   "version": "3.9.1"
  }
 },
 "nbformat": 4,
 "nbformat_minor": 5
}
